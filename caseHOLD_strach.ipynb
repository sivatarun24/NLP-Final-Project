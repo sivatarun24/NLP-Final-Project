{
 "cells": [
  {
   "cell_type": "code",
   "metadata": {
    "colab": {
     "base_uri": "https://localhost:8080/"
    },
    "id": "Nad-6AF91b1O",
    "outputId": "9e4708ee-7098-4c49-e926-93d74187ade0",
    "ExecuteTime": {
     "end_time": "2025-05-07T20:22:21.739267Z",
     "start_time": "2025-05-07T20:22:20.340287Z"
    }
   },
   "source": [
    "import sys\n",
    "!{sys.executable} -m pip install datasets"
   ],
   "outputs": [
    {
     "name": "stdout",
     "output_type": "stream",
     "text": [
      "Requirement already satisfied: datasets in /Library/Frameworks/Python.framework/Versions/3.9/lib/python3.9/site-packages (3.5.1)\r\n",
      "Requirement already satisfied: filelock in /Library/Frameworks/Python.framework/Versions/3.9/lib/python3.9/site-packages (from datasets) (3.16.1)\r\n",
      "Requirement already satisfied: numpy>=1.17 in /Users/siva_tarun/Library/Python/3.9/lib/python/site-packages (from datasets) (2.0.2)\r\n",
      "Requirement already satisfied: pyarrow>=15.0.0 in /Library/Frameworks/Python.framework/Versions/3.9/lib/python3.9/site-packages (from datasets) (20.0.0)\r\n",
      "Requirement already satisfied: dill<0.3.9,>=0.3.0 in /Library/Frameworks/Python.framework/Versions/3.9/lib/python3.9/site-packages (from datasets) (0.3.8)\r\n",
      "Requirement already satisfied: pandas in /Library/Frameworks/Python.framework/Versions/3.9/lib/python3.9/site-packages (from datasets) (2.2.2)\r\n",
      "Requirement already satisfied: requests>=2.32.2 in /Users/siva_tarun/Library/Python/3.9/lib/python/site-packages (from datasets) (2.32.3)\r\n",
      "Requirement already satisfied: tqdm>=4.66.3 in /Library/Frameworks/Python.framework/Versions/3.9/lib/python3.9/site-packages (from datasets) (4.66.6)\r\n",
      "Requirement already satisfied: xxhash in /Library/Frameworks/Python.framework/Versions/3.9/lib/python3.9/site-packages (from datasets) (3.5.0)\r\n",
      "Requirement already satisfied: multiprocess<0.70.17 in /Library/Frameworks/Python.framework/Versions/3.9/lib/python3.9/site-packages (from datasets) (0.70.16)\r\n",
      "Requirement already satisfied: fsspec<=2025.3.0,>=2023.1.0 in /Library/Frameworks/Python.framework/Versions/3.9/lib/python3.9/site-packages (from fsspec[http]<=2025.3.0,>=2023.1.0->datasets) (2024.10.0)\r\n",
      "Requirement already satisfied: aiohttp in /Library/Frameworks/Python.framework/Versions/3.9/lib/python3.9/site-packages (from datasets) (3.11.18)\r\n",
      "Requirement already satisfied: huggingface-hub>=0.24.0 in /Library/Frameworks/Python.framework/Versions/3.9/lib/python3.9/site-packages (from datasets) (0.26.3)\r\n",
      "Requirement already satisfied: packaging in /Users/siva_tarun/Library/Python/3.9/lib/python/site-packages (from datasets) (24.2)\r\n",
      "Requirement already satisfied: pyyaml>=5.1 in /Users/siva_tarun/Library/Python/3.9/lib/python/site-packages (from datasets) (6.0.2)\r\n",
      "Requirement already satisfied: aiohappyeyeballs>=2.3.0 in /Library/Frameworks/Python.framework/Versions/3.9/lib/python3.9/site-packages (from aiohttp->datasets) (2.6.1)\r\n",
      "Requirement already satisfied: aiosignal>=1.1.2 in /Library/Frameworks/Python.framework/Versions/3.9/lib/python3.9/site-packages (from aiohttp->datasets) (1.3.2)\r\n",
      "Requirement already satisfied: async-timeout<6.0,>=4.0 in /Library/Frameworks/Python.framework/Versions/3.9/lib/python3.9/site-packages (from aiohttp->datasets) (5.0.1)\r\n",
      "Requirement already satisfied: attrs>=17.3.0 in /Users/siva_tarun/Library/Python/3.9/lib/python/site-packages (from aiohttp->datasets) (24.3.0)\r\n",
      "Requirement already satisfied: frozenlist>=1.1.1 in /Library/Frameworks/Python.framework/Versions/3.9/lib/python3.9/site-packages (from aiohttp->datasets) (1.6.0)\r\n",
      "Requirement already satisfied: multidict<7.0,>=4.5 in /Library/Frameworks/Python.framework/Versions/3.9/lib/python3.9/site-packages (from aiohttp->datasets) (6.4.3)\r\n",
      "Requirement already satisfied: propcache>=0.2.0 in /Library/Frameworks/Python.framework/Versions/3.9/lib/python3.9/site-packages (from aiohttp->datasets) (0.3.1)\r\n",
      "Requirement already satisfied: yarl<2.0,>=1.17.0 in /Library/Frameworks/Python.framework/Versions/3.9/lib/python3.9/site-packages (from aiohttp->datasets) (1.20.0)\r\n",
      "Requirement already satisfied: typing-extensions>=3.7.4.3 in /Users/siva_tarun/Library/Python/3.9/lib/python/site-packages (from huggingface-hub>=0.24.0->datasets) (4.12.2)\r\n",
      "Requirement already satisfied: charset-normalizer<4,>=2 in /Users/siva_tarun/Library/Python/3.9/lib/python/site-packages (from requests>=2.32.2->datasets) (3.4.1)\r\n",
      "Requirement already satisfied: idna<4,>=2.5 in /Users/siva_tarun/Library/Python/3.9/lib/python/site-packages (from requests>=2.32.2->datasets) (3.10)\r\n",
      "Requirement already satisfied: urllib3<3,>=1.21.1 in /Users/siva_tarun/Library/Python/3.9/lib/python/site-packages (from requests>=2.32.2->datasets) (2.3.0)\r\n",
      "Requirement already satisfied: certifi>=2017.4.17 in /Users/siva_tarun/Library/Python/3.9/lib/python/site-packages (from requests>=2.32.2->datasets) (2024.12.14)\r\n",
      "Requirement already satisfied: python-dateutil>=2.8.2 in /Users/siva_tarun/Library/Python/3.9/lib/python/site-packages (from pandas->datasets) (2.9.0.post0)\r\n",
      "Requirement already satisfied: pytz>=2020.1 in /Library/Frameworks/Python.framework/Versions/3.9/lib/python3.9/site-packages (from pandas->datasets) (2024.2)\r\n",
      "Requirement already satisfied: tzdata>=2022.7 in /Library/Frameworks/Python.framework/Versions/3.9/lib/python3.9/site-packages (from pandas->datasets) (2024.1)\r\n",
      "Requirement already satisfied: six>=1.5 in /Library/Frameworks/Python.framework/Versions/3.9/lib/python3.9/site-packages (from python-dateutil>=2.8.2->pandas->datasets) (1.16.0)\r\n",
      "\r\n",
      "\u001B[1m[\u001B[0m\u001B[34;49mnotice\u001B[0m\u001B[1;39;49m]\u001B[0m\u001B[39;49m A new release of pip is available: \u001B[0m\u001B[31;49m24.3.1\u001B[0m\u001B[39;49m -> \u001B[0m\u001B[32;49m25.1\u001B[0m\r\n",
      "\u001B[1m[\u001B[0m\u001B[34;49mnotice\u001B[0m\u001B[1;39;49m]\u001B[0m\u001B[39;49m To update, run: \u001B[0m\u001B[32;49m/usr/local/bin/python3.9 -m pip install --upgrade pip\u001B[0m\r\n"
     ]
    }
   ],
   "execution_count": 1
  },
  {
   "cell_type": "code",
   "metadata": {
    "colab": {
     "base_uri": "https://localhost:8080/"
    },
    "id": "baWEgUSw1gsS",
    "outputId": "920cf31f-1692-407d-8c65-d1ddb7e73892",
    "ExecuteTime": {
     "end_time": "2025-05-07T20:22:21.879753Z",
     "start_time": "2025-05-07T20:22:21.756905Z"
    }
   },
   "source": [
    "!pip install --upgrade transformers"
   ],
   "outputs": [
    {
     "name": "stdout",
     "output_type": "stream",
     "text": [
      "zsh:1: command not found: pip\r\n"
     ]
    }
   ],
   "execution_count": 2
  },
  {
   "cell_type": "code",
   "metadata": {
    "colab": {
     "base_uri": "https://localhost:8080/"
    },
    "id": "eIO0KMJK1ir0",
    "outputId": "5a4da20e-33b8-4940-b49b-d47075b836a4",
    "ExecuteTime": {
     "end_time": "2025-05-07T20:22:24.482966Z",
     "start_time": "2025-05-07T20:22:21.984311Z"
    }
   },
   "source": [
    "import torch\n",
    "\n",
    "device = torch.device(\"cuda\" if torch.cuda.is_available() else \"cpu\")\n",
    "print(device)"
   ],
   "outputs": [
    {
     "name": "stdout",
     "output_type": "stream",
     "text": [
      "cpu\n"
     ]
    }
   ],
   "execution_count": 3
  },
  {
   "cell_type": "code",
   "metadata": {
    "colab": {
     "base_uri": "https://localhost:8080/"
    },
    "id": "IJeLNXsh1mVW",
    "outputId": "6f6d6d99-5e7b-4749-e7b0-6b8aebfa9601",
    "ExecuteTime": {
     "end_time": "2025-05-07T20:22:28.338631Z",
     "start_time": "2025-05-07T20:22:24.494278Z"
    }
   },
   "source": [
    "from datasets import load_dataset\n",
    "\n",
    "dataset = load_dataset(\"casehold/casehold\")\n"
   ],
   "outputs": [],
   "execution_count": 4
  },
  {
   "cell_type": "code",
   "metadata": {
    "id": "UkaX_76B1oSI",
    "ExecuteTime": {
     "end_time": "2025-05-07T20:22:28.350545Z",
     "start_time": "2025-05-07T20:22:28.344431Z"
    }
   },
   "source": [
    "# Access each split\n",
    "train_data = dataset[\"train\"].select(range(3000))\n",
    "val_data = dataset[\"validation\"].select(range(500))\n",
    "test_data = dataset[\"test\"].select(range(500))"
   ],
   "outputs": [],
   "execution_count": 5
  },
  {
   "cell_type": "code",
   "metadata": {
    "colab": {
     "base_uri": "https://localhost:8080/"
    },
    "id": "wzSf144K1qNh",
    "outputId": "7f33a471-2d6b-40ba-b7d4-ddd1f2b644c3",
    "ExecuteTime": {
     "end_time": "2025-05-07T20:22:28.359263Z",
     "start_time": "2025-05-07T20:22:28.356874Z"
    }
   },
   "source": [
    "print(f'Train size: {len(train_data)}')\n",
    "print(f'Validation size: {len(val_data)}')\n",
    "print(f'Test size: {len(test_data)}')"
   ],
   "outputs": [
    {
     "name": "stdout",
     "output_type": "stream",
     "text": [
      "Train size: 3000\n",
      "Validation size: 500\n",
      "Test size: 500\n"
     ]
    }
   ],
   "execution_count": 6
  },
  {
   "cell_type": "code",
   "metadata": {
    "colab": {
     "base_uri": "https://localhost:8080/"
    },
    "id": "YPJp6BEY1szQ",
    "outputId": "df792c63-009f-4236-ab91-6e87549762e8",
    "ExecuteTime": {
     "end_time": "2025-05-07T20:22:28.529663Z",
     "start_time": "2025-05-07T20:22:28.385409Z"
    }
   },
   "source": [
    "import pandas as pd\n",
    "\n",
    "df_train = pd.DataFrame(train_data)\n",
    "df_val = pd.DataFrame(val_data)\n",
    "df_test = pd.DataFrame(test_data)\n",
    "\n",
    "df_train.drop(columns=['example_id'], inplace=True)\n",
    "df_val.drop(columns=['example_id'], inplace=True)\n",
    "df_test.drop(columns=['example_id'], inplace=True)\n",
    "\n",
    "df_train['label'] = df_train['label'].astype(int)\n",
    "df_val['label'] = df_val['label'].astype(int)\n",
    "df_test['label'] = df_test['label'].astype(int)\n",
    "\n",
    "print(df_train.head())"
   ],
   "outputs": [
    {
     "name": "stdout",
     "output_type": "stream",
     "text": [
      "                                       citing_prompt  \\\n",
      "0  Drapeau’s cohorts, the cohort would be a “vict...   \n",
      "1  Colameta used customer information that he too...   \n",
      "2  property tax sale. In reviewing section 6323(b...   \n",
      "3  They also rely on Oswego Laborers’ Local 214 P...   \n",
      "4  did not affect the defendant’s guideline range...   \n",
      "\n",
      "                                           holding_0  \\\n",
      "0  holding that possession of a pipe bomb is a cr...   \n",
      "1  recognizing that even if a plaintiff claims ce...   \n",
      "2  holding that where there is a conflict between...   \n",
      "3  holding that plaintiff stated a  349 claim whe...   \n",
      "4  holding that united states v booker 543 us 220...   \n",
      "\n",
      "                                           holding_1  \\\n",
      "0  holding that bank robbery by force and violenc...   \n",
      "1  holding that included among trade secrets empl...   \n",
      "2  holding that specific statutory provisions tak...   \n",
      "3  holding that plaintiff stated a claim for brea...   \n",
      "4  holding that waiver of right to appeal sentenc...   \n",
      "\n",
      "                                           holding_2  \\\n",
      "0  holding that sexual assault of a child qualifi...   \n",
      "1  holding that supplier lists can be trade secre...   \n",
      "2  holding wills more specific provision prevails...   \n",
      "3  holding that the plaintiff stated a claim for ...   \n",
      "4  holding that united states v booker 543 us 220...   \n",
      "\n",
      "                                           holding_3  \\\n",
      "0  holding for the purposes of 18 usc  924e that ...   \n",
      "1  recognizing that customer lists may be protect...   \n",
      "2  recognizing that a specific statute controls o...   \n",
      "3  holding that the plaintiff had not stated a cl...   \n",
      "4  holding that united states v booker 543 us 220...   \n",
      "\n",
      "                                           holding_4  label  \n",
      "0  holding that a court must only look to the sta...      0  \n",
      "1  recognizing a legitimate need to protect an em...      1  \n",
      "2  holding that a specific statutory provision pr...      4  \n",
      "3  holding plaintiff stated claim in his individu...      0  \n",
      "4  holding that the changes in sentencing law imp...      3  \n"
     ]
    }
   ],
   "execution_count": 7
  },
  {
   "cell_type": "code",
   "metadata": {
    "colab": {
     "base_uri": "https://localhost:8080/"
    },
    "id": "33R9gKd11ubo",
    "outputId": "300a5b71-39d8-402f-de28-fba173c4885d",
    "ExecuteTime": {
     "end_time": "2025-05-07T20:22:28.542479Z",
     "start_time": "2025-05-07T20:22:28.538787Z"
    }
   },
   "source": [
    "columns = df_train.columns.tolist()\n",
    "print(columns)"
   ],
   "outputs": [
    {
     "name": "stdout",
     "output_type": "stream",
     "text": [
      "['citing_prompt', 'holding_0', 'holding_1', 'holding_2', 'holding_3', 'holding_4', 'label']\n"
     ]
    }
   ],
   "execution_count": 8
  },
  {
   "cell_type": "code",
   "metadata": {
    "id": "BZA3jIRQ1wRG",
    "ExecuteTime": {
     "end_time": "2025-05-07T20:22:30.091012Z",
     "start_time": "2025-05-07T20:22:28.552200Z"
    }
   },
   "source": [
    "import torch\n",
    "import torch.nn as nn\n",
    "import torch.optim as optim\n",
    "from torch.utils.data import Dataset, DataLoader\n",
    "import pandas as pd\n",
    "from sklearn.model_selection import train_test_split\n",
    "from collections import Counter\n",
    "import re\n",
    "\n",
    "# Clean text\n",
    "def clean_text(text):\n",
    "    text = text.lower()\n",
    "    text = re.sub(r\"[^a-z0-9\\s]\", \"\", text)\n",
    "    return text.strip()\n",
    "\n",
    "# Build vocabulary\n",
    "def build_vocab(texts, max_vocab_size=20000):\n",
    "    counter = Counter()\n",
    "    for text in texts:\n",
    "        counter.update(clean_text(text).split())\n",
    "    vocab = ['<PAD>', '<UNK>'] + [word for word, _ in counter.most_common(max_vocab_size-2)]\n",
    "    word2idx = {word: idx for idx, word in enumerate(vocab)}\n",
    "    return word2idx\n",
    "\n",
    "# Tokenize\n",
    "def encode(text, word2idx, max_len=64):\n",
    "    tokens = clean_text(text).split()\n",
    "    ids = [word2idx.get(token, word2idx['<UNK>']) for token in tokens][:max_len]\n",
    "    ids += [word2idx['<PAD>']] * (max_len - len(ids))\n",
    "    return ids"
   ],
   "outputs": [],
   "execution_count": 9
  },
  {
   "cell_type": "code",
   "metadata": {
    "id": "G5qmN9br25Mf",
    "ExecuteTime": {
     "end_time": "2025-05-07T20:22:30.105754Z",
     "start_time": "2025-05-07T20:22:30.101422Z"
    }
   },
   "source": [
    "# Custom dataset\n",
    "class CaseHOLD_Dataset(Dataset):\n",
    "    def __init__(self, dataframe, word2idx, max_len=64):\n",
    "        self.data = dataframe\n",
    "        self.word2idx = word2idx\n",
    "        self.max_len = max_len\n",
    "\n",
    "    def __len__(self):\n",
    "        return len(self.data)\n",
    "\n",
    "    def __getitem__(self, idx):\n",
    "        row = self.data.iloc[idx]\n",
    "        prompt = encode(row['citing_prompt'], self.word2idx, self.max_len)\n",
    "        holdings = [encode(row[f'holding_{i}'], self.word2idx, self.max_len) for i in range(5)]\n",
    "        label = int(row['label'])\n",
    "        return torch.tensor(prompt), torch.stack([torch.tensor(h) for h in holdings]), torch.tensor(label)"
   ],
   "outputs": [],
   "execution_count": 10
  },
  {
   "cell_type": "code",
   "metadata": {
    "id": "2aTVJjS920RX",
    "ExecuteTime": {
     "end_time": "2025-05-07T20:22:30.130445Z",
     "start_time": "2025-05-07T20:22:30.124430Z"
    }
   },
   "source": [
    "# Model\n",
    "class CaseHOLD_Model(nn.Module):\n",
    "    def __init__(self, vocab_size, embedding_dim=128, hidden_dim=256):\n",
    "        super(CaseHOLD_Model, self).__init__()\n",
    "        self.embedding = nn.Embedding(vocab_size, embedding_dim, padding_idx=0)\n",
    "        self.encoder = nn.LSTM(embedding_dim, hidden_dim, batch_first=True, bidirectional=True)\n",
    "        self.classifier = nn.Linear(hidden_dim * 2, 1)\n",
    "\n",
    "    def encode(self, x):\n",
    "        emb = self.embedding(x)\n",
    "        _, (hn, _) = self.encoder(emb)\n",
    "        return torch.cat((hn[-2], hn[-1]), dim=1)\n",
    "\n",
    "    def forward(self, prompt, holdings):\n",
    "        prompt_vec = self.encode(prompt)\n",
    "        holding_vecs = [self.encode(holdings[:, i, :]) for i in range(5)]\n",
    "        holding_vecs = torch.stack(holding_vecs, dim=1)  # (B, 5, H)\n",
    "        prompt_vec = prompt_vec.unsqueeze(1).repeat(1, 5, 1)  # (B, 5, H)\n",
    "        logits = self.classifier(torch.tanh(prompt_vec * holding_vecs)).squeeze(-1)\n",
    "        return logits"
   ],
   "outputs": [],
   "execution_count": 11
  },
  {
   "cell_type": "code",
   "metadata": {
    "id": "f0Nd5yWB4q9v",
    "ExecuteTime": {
     "end_time": "2025-05-07T20:22:30.387690Z",
     "start_time": "2025-05-07T20:22:30.141162Z"
    }
   },
   "source": [
    "# Combine all citing_prompts and holdings\n",
    "all_texts = []\n",
    "\n",
    "# Add cleaned citing_prompts and holdings to list\n",
    "for df in [df_train, df_val, df_test]:\n",
    "    for col in ['citing_prompt'] + [f'holding_{i}' for i in range(5)]:\n",
    "        # Convert to string and replace NaN or float with ''\n",
    "        df[col] = df[col].fillna('').astype(str)\n",
    "        all_texts.extend(df[col].tolist())\n",
    "\n",
    "# Final cleanup: make sure all entries are strings\n",
    "all_texts = [str(text) if isinstance(text, str) else \"\" for text in all_texts]\n",
    "\n",
    "# Now build the vocabulary\n",
    "word2idx = build_vocab(all_texts)"
   ],
   "outputs": [],
   "execution_count": 12
  },
  {
   "cell_type": "code",
   "metadata": {
    "id": "SZf8DOB121zi",
    "ExecuteTime": {
     "end_time": "2025-05-07T20:22:30.406156Z",
     "start_time": "2025-05-07T20:22:30.402694Z"
    }
   },
   "source": [
    "train_dataset = CaseHOLD_Dataset(df_train, word2idx)\n",
    "val_dataset = CaseHOLD_Dataset(df_val, word2idx)\n",
    "test_dataset = CaseHOLD_Dataset(df_test, word2idx)\n",
    "\n",
    "train_loader = DataLoader(train_dataset, batch_size=16, shuffle=True)\n",
    "val_loader = DataLoader(val_dataset, batch_size=4)\n",
    "test_loader = DataLoader(test_dataset, batch_size=1)"
   ],
   "outputs": [],
   "execution_count": 13
  },
  {
   "metadata": {
    "ExecuteTime": {
     "end_time": "2025-05-07T20:22:30.428219Z",
     "start_time": "2025-05-07T20:22:30.422592Z"
    }
   },
   "cell_type": "code",
   "source": "len(word2idx)",
   "outputs": [
    {
     "data": {
      "text/plain": [
       "20000"
      ]
     },
     "execution_count": 14,
     "metadata": {},
     "output_type": "execute_result"
    }
   ],
   "execution_count": 14
  },
  {
   "cell_type": "code",
   "execution_count": null,
   "metadata": {
    "id": "b94GVahZ3DQb"
   },
   "outputs": [],
   "source": [
    "model = CaseHOLD_Model(len(word2idx)).to(device)\n",
    "criterion = nn.CrossEntropyLoss()\n",
    "optimizer = optim.Adam(model.parameters(), lr=1e-3)"
   ]
  },
  {
   "cell_type": "code",
   "execution_count": null,
   "metadata": {
    "id": "Tp4sklG54xC6"
   },
   "outputs": [],
   "source": [
    "# def train(model, dataloader, criterion, optimizer, device):\n",
    "#     model.train()\n",
    "#     total_loss = 0\n",
    "#     correct = 0\n",
    "#     total = 0\n",
    "\n",
    "#     for prompt, holdings, label in dataloader:\n",
    "#         prompt = prompt.to(device)\n",
    "#         holdings = holdings.to(device)\n",
    "#         label = label.to(device)\n",
    "\n",
    "#         optimizer.zero_grad()\n",
    "#         logits = model(prompt, holdings)\n",
    "#         loss = criterion(logits, label)\n",
    "#         loss.backward()\n",
    "#         optimizer.step()\n",
    "\n",
    "#         total_loss += loss.item()\n",
    "#         preds = torch.argmax(logits, dim=1)\n",
    "#         correct += (preds == label).sum().item()\n",
    "#         total += label.size(0)\n",
    "\n",
    "#     avg_loss = total_loss / len(dataloader)\n",
    "#     accuracy = correct / total\n",
    "#     print(f\"Train Loss: {avg_loss:.4f}, Accuracy: {accuracy:.4f}\")\n",
    "#     return avg_loss, accuracy\n",
    "\n",
    "\n",
    "# def evaluate(model, dataloader, criterion, device):\n",
    "#     model.eval()\n",
    "#     total_loss = 0\n",
    "#     correct = 0\n",
    "#     total = 0\n",
    "\n",
    "#     with torch.no_grad():\n",
    "#         for prompt, holdings, label in dataloader:\n",
    "#             prompt = prompt.to(device)\n",
    "#             holdings = holdings.to(device)\n",
    "#             label = label.to(device)\n",
    "\n",
    "#             logits = model(prompt, holdings)\n",
    "#             loss = criterion(logits, label)\n",
    "\n",
    "#             total_loss += loss.item()\n",
    "#             preds = torch.argmax(logits, dim=1)\n",
    "#             correct += (preds == label).sum().item()\n",
    "#             total += label.size(0)\n",
    "\n",
    "#     avg_loss = total_loss / len(dataloader)\n",
    "#     accuracy = correct / total\n",
    "#     print(f\"Val Loss: {avg_loss:.4f}, Accuracy: {accuracy:.4f}\")\n",
    "#     return avg_loss, accuracy"
   ]
  },
  {
   "cell_type": "code",
   "source": [
    "# updated\n",
    "import os\n",
    "import torch\n",
    "def evaluate(model, dataloader, criterion, device):\n",
    "    model.eval()\n",
    "    total_loss = 0\n",
    "    correct = 0\n",
    "    total = 0\n",
    "\n",
    "    with torch.no_grad():\n",
    "        for prompt, holdings, label in dataloader:\n",
    "            prompt, holdings, label = prompt.to(device), holdings.to(device), label.to(device)\n",
    "            logits = model(prompt, holdings)\n",
    "            loss = criterion(logits, label)\n",
    "\n",
    "            total_loss += loss.item()\n",
    "            preds = torch.argmax(logits, dim=1)\n",
    "            correct += (preds == label).sum().item()\n",
    "            total += label.size(0)\n",
    "\n",
    "    avg_loss = total_loss / len(dataloader)\n",
    "    accuracy = correct / total\n",
    "    print(f\"Val Loss: {avg_loss:.4f}, Accuracy: {accuracy:.4f}\")\n",
    "    return avg_loss, accuracy"
   ],
   "metadata": {
    "id": "R4S9_u6qRvQs"
   },
   "execution_count": null,
   "outputs": []
  },
  {
   "cell_type": "code",
   "execution_count": null,
   "metadata": {
    "id": "aULoZ1vb6RYN"
   },
   "outputs": [],
   "source": [
    "def train(model, dataloader, criterion, optimizer, device, val_loader, num_epochs=3, save_path=\"best_casehold_model.pt\"):\n",
    "    best_val_acc = 0.0\n",
    "\n",
    "    # Load existing checkpoint if available\n",
    "    if os.path.exists(save_path):\n",
    "        checkpoint = torch.load(save_path, map_location=device)\n",
    "        model.load_state_dict(checkpoint['model_state_dict'])\n",
    "        optimizer.load_state_dict(checkpoint['optimizer_state_dict'])\n",
    "        best_val_acc = checkpoint['val_accuracy']\n",
    "        print(f\"Loaded existing model from {save_path} with val accuracy: {best_val_acc:.4f}\")\n",
    "\n",
    "    train_losses, val_losses = [], []\n",
    "    train_accuracies, val_accuracies = [], []\n",
    "\n",
    "    for epoch in range(1, num_epochs + 1):\n",
    "        model.train()\n",
    "        total_loss = 0\n",
    "        correct = 0\n",
    "        total = 0\n",
    "\n",
    "        for prompt, holdings, label in dataloader:\n",
    "\n",
    "            prompt, holdings, label = prompt.to(device), holdings.to(device), label.to(device)\n",
    "            logits = model(prompt, holdings)\n",
    "            loss = criterion(logits, label)\n",
    "\n",
    "            optimizer.zero_grad()\n",
    "            loss.backward()\n",
    "            optimizer.step()\n",
    "\n",
    "            total_loss += loss.item()\n",
    "            preds = torch.argmax(logits, dim=1)\n",
    "            correct += (preds == label).sum().item()\n",
    "            total += label.size(0)\n",
    "\n",
    "        avg_train_loss = total_loss / len(dataloader)\n",
    "        train_acc = correct / total\n",
    "\n",
    "        # Evaluate on validation set\n",
    "        avg_val_loss, val_acc = evaluate(model, val_loader, criterion, device)\n",
    "\n",
    "        # Save metrics\n",
    "        train_losses.append(avg_train_loss)\n",
    "        val_losses.append(avg_val_loss)\n",
    "        train_accuracies.append(train_acc)\n",
    "        val_accuracies.append(val_acc)\n",
    "\n",
    "        print(f\"Epoch {epoch:2d} | Train Loss: {avg_train_loss:.4f} | Train Acc: {train_acc:.4f} | Val Acc: {val_acc:.4f}\")\n",
    "\n",
    "        # Save best model\n",
    "        if val_acc > best_val_acc:\n",
    "            best_val_acc = val_acc\n",
    "            torch.save({\n",
    "                'model_state_dict': model.state_dict(),\n",
    "                'optimizer_state_dict': optimizer.state_dict(),\n",
    "                'val_accuracy': best_val_acc\n",
    "            }, save_path)\n",
    "            print(f\"New best model saved at {save_path} with val accuracy: {val_acc:.4f}\")\n",
    "\n",
    "    return train_losses, val_losses, train_accuracies, val_accuracies"
   ]
  },
  {
   "cell_type": "code",
   "execution_count": null,
   "metadata": {
    "id": "Ud155iev5Rry"
   },
   "outputs": [],
   "source": [
    "# num_epochs = 10\n",
    "\n",
    "# train_losses = []\n",
    "# val_losses = []\n",
    "# train_accuracies = []\n",
    "# val_accuracies = []\n",
    "\n",
    "# for epoch in range(num_epochs):\n",
    "#     print(f\"\\nEpoch {epoch+1}/{num_epochs}\")\n",
    "#     # train_loss, train_acc = train(model, train_loader, criterion, optimizer, device)\n",
    "#     # val_loss, val_acc = evaluate(model, val_loader, criterion, device)\n",
    "\n",
    "# train_losses.append(train_loss)\n",
    "# val_losses.append(val_loss)\n",
    "# train_accuracies.append(train_acc)\n",
    "# val_accuracies.append(val_acc)"
   ]
  },
  {
   "cell_type": "code",
   "source": [
    "train_losses, val_losses, train_accuracies, val_accuracies = train(model, train_loader, criterion, optimizer, device, val_loader, num_epochs=10, save_path=\"best_casehold_model.pt\")"
   ],
   "metadata": {
    "colab": {
     "base_uri": "https://localhost:8080/"
    },
    "id": "T-jZzZdnR8OF",
    "outputId": "da612c84-1d4c-4635-ad7f-7788adc44708"
   },
   "execution_count": null,
   "outputs": [
    {
     "output_type": "stream",
     "name": "stdout",
     "text": [
      "Loaded existing model from best_casehold_model.pt with val accuracy: 0.3360\n",
      "Val Loss: 1.6001, Accuracy: 0.2540\n",
      "Epoch  1 | Train Loss: 1.5521 | Train Acc: 0.3227 | Val Acc: 0.2540\n",
      "Val Loss: 1.6318, Accuracy: 0.2840\n",
      "Epoch  2 | Train Loss: 1.4098 | Train Acc: 0.4090 | Val Acc: 0.2840\n",
      "Val Loss: 1.6683, Accuracy: 0.3020\n",
      "Epoch  3 | Train Loss: 1.2611 | Train Acc: 0.4977 | Val Acc: 0.3020\n",
      "Val Loss: 1.7750, Accuracy: 0.2860\n",
      "Epoch  4 | Train Loss: 1.0730 | Train Acc: 0.5857 | Val Acc: 0.2860\n",
      "Val Loss: 1.8454, Accuracy: 0.2980\n",
      "Epoch  5 | Train Loss: 0.8327 | Train Acc: 0.6873 | Val Acc: 0.2980\n",
      "Val Loss: 2.3735, Accuracy: 0.3040\n",
      "Epoch  6 | Train Loss: 0.5926 | Train Acc: 0.7927 | Val Acc: 0.3040\n",
      "Val Loss: 2.7466, Accuracy: 0.3020\n",
      "Epoch  7 | Train Loss: 0.3765 | Train Acc: 0.8713 | Val Acc: 0.3020\n",
      "Val Loss: 3.1877, Accuracy: 0.3000\n",
      "Epoch  8 | Train Loss: 0.2454 | Train Acc: 0.9237 | Val Acc: 0.3000\n",
      "Val Loss: 3.5599, Accuracy: 0.3080\n",
      "Epoch  9 | Train Loss: 0.1670 | Train Acc: 0.9493 | Val Acc: 0.3080\n",
      "Val Loss: 4.1136, Accuracy: 0.3060\n",
      "Epoch 10 | Train Loss: 0.1144 | Train Acc: 0.9693 | Val Acc: 0.3060\n"
     ]
    }
   ]
  },
  {
   "cell_type": "code",
   "execution_count": null,
   "metadata": {
    "id": "9Sv7tfsL5vLo"
   },
   "outputs": [],
   "source": [
    "import matplotlib.pyplot as plt\n",
    "\n",
    "def plot_training_curves(train_losses, val_losses, train_accuracies, val_accuracies):\n",
    "    epochs = range(1, len(train_losses) + 1)\n",
    "\n",
    "    # Loss Plot\n",
    "    plt.figure(figsize=(10, 4))\n",
    "    plt.subplot(1, 2, 1)\n",
    "    plt.plot(epochs, train_losses, label='Train Loss')\n",
    "    plt.plot(epochs, val_losses, label='Val Loss')\n",
    "    plt.xlabel(\"Epoch\")\n",
    "    plt.ylabel(\"Loss\")\n",
    "    plt.title(\"Loss over Epochs\")\n",
    "    plt.legend()\n",
    "    plt.grid(True)\n",
    "\n",
    "    # Accuracy Plot\n",
    "    plt.subplot(1, 2, 2)\n",
    "    plt.plot(epochs, train_accuracies, label='Train Accuracy')\n",
    "    plt.plot(epochs, val_accuracies, label='Val Accuracy')\n",
    "    plt.xlabel(\"Epoch\")\n",
    "    plt.ylabel(\"Accuracy\")\n",
    "    plt.title(\"Accuracy over Epochs\")\n",
    "    plt.legend()\n",
    "    plt.grid(True)\n",
    "\n",
    "    plt.tight_layout()\n",
    "    plt.show()"
   ]
  },
  {
   "cell_type": "code",
   "execution_count": null,
   "metadata": {
    "colab": {
     "base_uri": "https://localhost:8080/",
     "height": 407
    },
    "id": "7jUQ5lbA59Az",
    "outputId": "aa5a9158-aebf-4646-c31e-081e0993d55f"
   },
   "outputs": [
    {
     "output_type": "display_data",
     "data": {
      "text/plain": [
       "<Figure size 1000x400 with 2 Axes>"
      ],
      "image/png": "[encoded data removed]"
     },
     "metadata": {}
    }
   ],
   "source": [
    "plot_training_curves(train_losses, val_losses, train_accuracies, val_accuracies)"
   ]
  },
  {
   "cell_type": "code",
   "execution_count": null,
   "metadata": {
    "id": "201PjzxK5TZF"
   },
   "outputs": [],
   "source": [
    "from sklearn.metrics import classification_report, confusion_matrix, f1_score\n",
    "import numpy as np\n",
    "\n",
    "def evaluate_on_test(model, test_loader, device, class_names=None):\n",
    "    model.eval()\n",
    "    all_preds = []\n",
    "    all_labels = []\n",
    "\n",
    "    with torch.no_grad():\n",
    "        for prompt, holdings, label in test_loader:\n",
    "            prompt = prompt.to(device)\n",
    "            holdings = holdings.to(device)\n",
    "            label = label.to(device)\n",
    "\n",
    "            logits = model(prompt, holdings)\n",
    "            preds = torch.argmax(logits, dim=1)\n",
    "\n",
    "            all_preds.extend(preds.cpu().numpy())\n",
    "            all_labels.extend(label.cpu().numpy())\n",
    "\n",
    "    all_preds = np.array(all_preds)\n",
    "    all_labels = np.array(all_labels)\n",
    "\n",
    "    # Accuracy\n",
    "    accuracy = np.mean(all_preds == all_labels)\n",
    "    print(f\"Test Accuracy: {accuracy:.4f}\")\n",
    "\n",
    "    # F1-Score (macro and micro)\n",
    "    f1_macro = f1_score(all_labels, all_preds, average='macro')\n",
    "    f1_micro = f1_score(all_labels, all_preds, average='micro')\n",
    "    print(f\"F1 Macro: {f1_macro:.4f} | F1 Micro: {f1_micro:.4f}\")\n",
    "\n",
    "    # Confusion Matrix\n",
    "    cm = confusion_matrix(all_labels, all_preds)\n",
    "    print(\"\\nConfusion Matrix:\")\n",
    "    print(cm)\n",
    "\n",
    "    # Per-class Accuracy\n",
    "    print(\"\\nPer-class Accuracy:\")\n",
    "    class_acc = cm.diagonal() / cm.sum(axis=1)\n",
    "    for i, acc in enumerate(class_acc):\n",
    "        name = class_names[i] if class_names else f\"Holding {i}\"\n",
    "        print(f\"{name}: {acc:.4f}\")\n",
    "\n",
    "    # Classification Report\n",
    "    print(\"\\nDetailed Classification Report:\")\n",
    "    print(classification_report(all_labels, all_preds, target_names=class_names if class_names else [f\"Holding {i}\" for i in range(5)]))"
   ]
  },
  {
   "cell_type": "code",
   "execution_count": null,
   "metadata": {
    "colab": {
     "base_uri": "https://localhost:8080/"
    },
    "id": "MxCDThQR5myJ",
    "outputId": "e82af180-8062-41bc-da2d-51868366f59b"
   },
   "outputs": [
    {
     "output_type": "stream",
     "name": "stdout",
     "text": [
      "Test Accuracy: 0.2820\n",
      "F1 Macro: 0.2819 | F1 Micro: 0.2820\n",
      "\n",
      "Confusion Matrix:\n",
      "[[24  9 15 15 14]\n",
      " [16 29 23 21 14]\n",
      " [24 22 29 17 19]\n",
      " [12 18 22 26 13]\n",
      " [19 18 18 30 33]]\n",
      "\n",
      "Per-class Accuracy:\n",
      "Holding 0: 0.3117\n",
      "Holding 1: 0.2816\n",
      "Holding 2: 0.2613\n",
      "Holding 3: 0.2857\n",
      "Holding 4: 0.2797\n",
      "\n",
      "Detailed Classification Report:\n",
      "              precision    recall  f1-score   support\n",
      "\n",
      "   Holding 0       0.25      0.31      0.28        77\n",
      "   Holding 1       0.30      0.28      0.29       103\n",
      "   Holding 2       0.27      0.26      0.27       111\n",
      "   Holding 3       0.24      0.29      0.26        91\n",
      "   Holding 4       0.35      0.28      0.31       118\n",
      "\n",
      "    accuracy                           0.28       500\n",
      "   macro avg       0.28      0.28      0.28       500\n",
      "weighted avg       0.29      0.28      0.28       500\n",
      "\n"
     ]
    }
   ],
   "source": [
    "evaluate_on_test(model, test_loader, device)"
   ]
  },
  {
   "cell_type": "code",
   "source": [
    "\\section{Experimental Design}\n",
    "\\begin{itemize}\n",
    "    \\item \\textbf{Hardware}: All models were trained and evaluated on a CUDA-enabled GPU environment on GCP using PyTorch and Hugging Face Transformers.\n",
    "\n",
    "    \\item \\textbf{Dataset}: We used the CaseHOLD dataset, selecting 3000 samples for training, 500 for validation, and 500 for testing due to our limited resources, training time and rapid experimentation. Each sample consists of a citing prompt, five holdings and label.\n",
    "\n",
    "    \\item \\textbf{Preprocessing}: For the GPT-2 and T5 models, we used Hugging Face tokenizers with padding and truncation to fixed lengths (512 tokens). For the custom model, we built a vocabulary of 20,000 tokens using frequency counts and applied padding and truncation to a max length of 128 tokens as embeddings.\n",
    "\n",
    "    \\item \\textbf{Training Configuration}:\n",
    "    \\begin{itemize}\n",
    "        \\item \\textbf{GPT-2}: Fine-tuned on sequences combining the prompt with each holding. Batch size: 8; Epochs: 10; Optimizer: AdamW; Learning Rate: 5e-5.\n",
    "        \\item \\textbf{T5}: Trained as a sequence-to-sequence task to generate a letter (A–E) representing the correct answer. Batch size: 8; Epochs: 10; Optimizer: AdamW; Learning Rate: 5e-5.\n",
    "        \\item \\textbf{Custom Model}: A bidirectional LSTM-based classifier trained using cross-entropy loss. Batch size: 16 (train), 4 (val), 1 (test); Epochs: 10; Optimizer: Adam; Learning Rate: 1e-3.\n",
    "    \\end{itemize}\n",
    "\n",
    "    \\item \\textbf{Metrics}: We evaluated all models using accuracy, macro and weighted F1-scores, and confusion matrices.\n",
    "\\end{itemize}"
   ],
   "metadata": {
    "id": "pjcYy3I_RP7G"
   },
   "execution_count": null,
   "outputs": []
  }
 ],
 "metadata": {
  "colab": {
   "provenance": [],
   "gpuType": "T4"
  },
  "kernelspec": {
   "display_name": "Python 3 (ipykernel)",
   "name": "python3",
   "language": "python"
  },
  "language_info": {
   "name": "python"
  },
  "accelerator": "GPU"
 },
 "nbformat": 4,
 "nbformat_minor": 0
}
